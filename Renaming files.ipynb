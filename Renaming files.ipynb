{
 "cells": [
  {
   "cell_type": "code",
   "execution_count": 1,
   "id": "88443e21",
   "metadata": {},
   "outputs": [],
   "source": [
    "import glob\n",
    "import os"
   ]
  },
  {
   "cell_type": "code",
   "execution_count": 2,
   "id": "ae1566eb",
   "metadata": {},
   "outputs": [
    {
     "data": {
      "text/plain": [
       "[]"
      ]
     },
     "execution_count": 2,
     "metadata": {},
     "output_type": "execute_result"
    }
   ],
   "source": [
    "file_list  = glob.glob('sample_data/*')\n",
    "file_list"
   ]
  },
  {
   "cell_type": "code",
   "execution_count": 3,
   "id": "229ef258",
   "metadata": {},
   "outputs": [
    {
     "data": {
      "text/plain": [
       "0"
      ]
     },
     "execution_count": 3,
     "metadata": {},
     "output_type": "execute_result"
    }
   ],
   "source": [
    "len(file_list)"
   ]
  },
  {
   "cell_type": "code",
   "execution_count": null,
   "id": "81e0f689",
   "metadata": {},
   "outputs": [],
   "source": [
    "for i in file_list:\n",
    "    print(i)"
   ]
  },
  {
   "cell_type": "code",
   "execution_count": null,
   "id": "b2a78509",
   "metadata": {},
   "outputs": [],
   "source": [
    "for i in file_list:\n",
    "    print(i)\n",
    "    new_path = i.replace('.csv','_edited.csv')\n",
    "    print(new_path)"
   ]
  },
  {
   "cell_type": "code",
   "execution_count": null,
   "id": "9b176c36",
   "metadata": {},
   "outputs": [],
   "source": [
    "for i in file_list:\n",
    "    new_path = i.replace('.csv','_edited.csv')\n",
    "    os.rename(i,new_path)"
   ]
  },
  {
   "cell_type": "code",
   "execution_count": null,
   "id": "340242ef",
   "metadata": {},
   "outputs": [],
   "source": [
    "file_list  = glob.glob('sample_data/*')\n",
    "file_list"
   ]
  },
  {
   "cell_type": "code",
   "execution_count": null,
   "id": "0f29d341",
   "metadata": {},
   "outputs": [],
   "source": [
    "for i in file_list:\n",
    "    new_path = i.replace('_edited.csv','.csv')\n",
    "    os.rename(i,new_path)"
   ]
  },
  {
   "cell_type": "code",
   "execution_count": null,
   "id": "6be5a4f8",
   "metadata": {},
   "outputs": [],
   "source": []
  },
  {
   "cell_type": "code",
   "execution_count": null,
   "id": "f4fbe30e",
   "metadata": {},
   "outputs": [],
   "source": []
  }
 ],
 "metadata": {
  "kernelspec": {
   "display_name": "Python 3",
   "language": "python",
   "name": "python3"
  },
  "language_info": {
   "codemirror_mode": {
    "name": "ipython",
    "version": 3
   },
   "file_extension": ".py",
   "mimetype": "text/x-python",
   "name": "python",
   "nbconvert_exporter": "python",
   "pygments_lexer": "ipython3",
   "version": "3.9.6"
  }
 },
 "nbformat": 4,
 "nbformat_minor": 5
}
