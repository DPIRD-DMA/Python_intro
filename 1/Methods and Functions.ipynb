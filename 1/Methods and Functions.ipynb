{
 "cells": [
  {
   "cell_type": "markdown",
   "id": "c399366b",
   "metadata": {},
   "source": [
    "<b>Methods"
   ]
  },
  {
   "cell_type": "code",
   "execution_count": 3,
   "id": "e896d578",
   "metadata": {},
   "outputs": [],
   "source": [
    "expl_txt = 'this is some text'"
   ]
  },
  {
   "cell_type": "code",
   "execution_count": 4,
   "id": "2ff50b6b",
   "metadata": {},
   "outputs": [
    {
     "data": {
      "text/plain": [
       "['this', 'is', 'some', 'text']"
      ]
     },
     "execution_count": 4,
     "metadata": {},
     "output_type": "execute_result"
    }
   ],
   "source": [
    "expl_txt.split(' ')"
   ]
  },
  {
   "cell_type": "code",
   "execution_count": 6,
   "id": "a7f7db4f",
   "metadata": {},
   "outputs": [
    {
     "name": "stdout",
     "output_type": "stream",
     "text": [
      "this\n",
      "is\n",
      "some\n",
      "text\n"
     ]
    }
   ],
   "source": [
    "import time\n",
    "for i in expl_txt.split(' '):\n",
    "    print(i)\n",
    "    time.sleep(1)"
   ]
  },
  {
   "cell_type": "markdown",
   "id": "85ef2c0d",
   "metadata": {},
   "source": [
    "find methods with tab"
   ]
  },
  {
   "cell_type": "code",
   "execution_count": 11,
   "id": "80d9a657",
   "metadata": {
    "collapsed": true
   },
   "outputs": [
    {
     "ename": "SyntaxError",
     "evalue": "invalid syntax (<ipython-input-11-b1d179f42c68>, line 1)",
     "output_type": "error",
     "traceback": [
      "\u001b[0;36m  File \u001b[0;32m\"<ipython-input-11-b1d179f42c68>\"\u001b[0;36m, line \u001b[0;32m1\u001b[0m\n\u001b[0;31m    expl_txt.\u001b[0m\n\u001b[0m             ^\u001b[0m\n\u001b[0;31mSyntaxError\u001b[0m\u001b[0;31m:\u001b[0m invalid syntax\n"
     ]
    }
   ],
   "source": [
    "expl_txt."
   ]
  },
  {
   "cell_type": "code",
   "execution_count": 20,
   "id": "c6be75a7",
   "metadata": {},
   "outputs": [],
   "source": [
    "expl_txt.count?"
   ]
  },
  {
   "cell_type": "markdown",
   "id": "0bf5afed",
   "metadata": {},
   "source": [
    "<b>Functions"
   ]
  },
  {
   "cell_type": "code",
   "execution_count": 14,
   "id": "f3280678",
   "metadata": {},
   "outputs": [],
   "source": [
    "def do_math(x):\n",
    "    y = x*x+2\n",
    "    return y"
   ]
  },
  {
   "cell_type": "code",
   "execution_count": 15,
   "id": "f8cdc48f",
   "metadata": {},
   "outputs": [
    {
     "data": {
      "text/plain": [
       "51"
      ]
     },
     "execution_count": 15,
     "metadata": {},
     "output_type": "execute_result"
    }
   ],
   "source": [
    "do_math(7)"
   ]
  },
  {
   "cell_type": "code",
   "execution_count": 17,
   "id": "4de39ccb",
   "metadata": {},
   "outputs": [
    {
     "name": "stdout",
     "output_type": "stream",
     "text": [
      "2\n",
      "3\n",
      "6\n",
      "11\n",
      "18\n"
     ]
    }
   ],
   "source": [
    "for i in range(0,5):\n",
    "    print(do_math(i))\n",
    "    time.sleep(.5)"
   ]
  },
  {
   "cell_type": "code",
   "execution_count": 18,
   "id": "f962fdb8",
   "metadata": {},
   "outputs": [],
   "source": [
    "from time import sleep"
   ]
  },
  {
   "cell_type": "code",
   "execution_count": 19,
   "id": "de140842",
   "metadata": {},
   "outputs": [],
   "source": [
    "sleep(1)"
   ]
  },
  {
   "cell_type": "code",
   "execution_count": null,
   "id": "fab8bb93",
   "metadata": {},
   "outputs": [],
   "source": []
  }
 ],
 "metadata": {
  "kernelspec": {
   "display_name": "Python 3",
   "language": "python",
   "name": "python3"
  },
  "language_info": {
   "codemirror_mode": {
    "name": "ipython",
    "version": 3
   },
   "file_extension": ".py",
   "mimetype": "text/x-python",
   "name": "python",
   "nbconvert_exporter": "python",
   "pygments_lexer": "ipython3",
   "version": "3.8.2"
  }
 },
 "nbformat": 4,
 "nbformat_minor": 5
}
