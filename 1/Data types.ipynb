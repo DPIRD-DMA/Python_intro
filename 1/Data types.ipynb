{
 "cells": [
  {
   "cell_type": "markdown",
   "id": "2cfa534d",
   "metadata": {},
   "source": [
    "<b>Strings"
   ]
  },
  {
   "cell_type": "code",
   "execution_count": 1,
   "id": "25c6a000",
   "metadata": {},
   "outputs": [
    {
     "data": {
      "text/plain": [
       "'Pyhton is cool 👍'"
      ]
     },
     "execution_count": 1,
     "metadata": {},
     "output_type": "execute_result"
    }
   ],
   "source": [
    "'Pyhton is cool 👍'"
   ]
  },
  {
   "cell_type": "code",
   "execution_count": 2,
   "id": "0c88ae4a",
   "metadata": {
    "scrolled": true
   },
   "outputs": [],
   "source": [
    "text = 'Pyhton is cool 👍'"
   ]
  },
  {
   "cell_type": "code",
   "execution_count": 3,
   "id": "b07617e5",
   "metadata": {},
   "outputs": [
    {
     "data": {
      "text/plain": [
       "'Pyhton is cool 👍'"
      ]
     },
     "execution_count": 3,
     "metadata": {},
     "output_type": "execute_result"
    }
   ],
   "source": [
    "text"
   ]
  },
  {
   "cell_type": "code",
   "execution_count": 4,
   "id": "bf6f05e2",
   "metadata": {},
   "outputs": [
    {
     "data": {
      "text/plain": [
       "str"
      ]
     },
     "execution_count": 4,
     "metadata": {},
     "output_type": "execute_result"
    }
   ],
   "source": [
    "type(text)"
   ]
  },
  {
   "cell_type": "markdown",
   "id": "4d7efefb",
   "metadata": {},
   "source": [
    "<b>Integers"
   ]
  },
  {
   "cell_type": "code",
   "execution_count": 5,
   "id": "b7ce3eca",
   "metadata": {},
   "outputs": [
    {
     "data": {
      "text/plain": [
       "3"
      ]
     },
     "execution_count": 5,
     "metadata": {},
     "output_type": "execute_result"
    }
   ],
   "source": [
    "1+2"
   ]
  },
  {
   "cell_type": "code",
   "execution_count": 6,
   "id": "ef6094e0",
   "metadata": {},
   "outputs": [
    {
     "data": {
      "text/plain": [
       "int"
      ]
     },
     "execution_count": 6,
     "metadata": {},
     "output_type": "execute_result"
    }
   ],
   "source": [
    "type(1)"
   ]
  },
  {
   "cell_type": "markdown",
   "id": "d1234491",
   "metadata": {},
   "source": [
    "<b>Floats</b>"
   ]
  },
  {
   "cell_type": "code",
   "execution_count": 7,
   "id": "8b4a4140",
   "metadata": {},
   "outputs": [
    {
     "data": {
      "text/plain": [
       "0.3333333333333333"
      ]
     },
     "execution_count": 7,
     "metadata": {},
     "output_type": "execute_result"
    }
   ],
   "source": [
    "1/3"
   ]
  },
  {
   "cell_type": "code",
   "execution_count": 8,
   "id": "79ba53bf",
   "metadata": {},
   "outputs": [
    {
     "data": {
      "text/plain": [
       "float"
      ]
     },
     "execution_count": 8,
     "metadata": {},
     "output_type": "execute_result"
    }
   ],
   "source": [
    "type(1/3)"
   ]
  },
  {
   "cell_type": "markdown",
   "id": "26f1c200",
   "metadata": {},
   "source": [
    "<b>Lists"
   ]
  },
  {
   "cell_type": "code",
   "execution_count": 9,
   "id": "5fe2e9b3",
   "metadata": {},
   "outputs": [
    {
     "data": {
      "text/plain": [
       "[1, 2, 3]"
      ]
     },
     "execution_count": 9,
     "metadata": {},
     "output_type": "execute_result"
    }
   ],
   "source": [
    "expl_list = [1,2,3]\n",
    "expl_list"
   ]
  },
  {
   "cell_type": "code",
   "execution_count": 10,
   "id": "6527949f",
   "metadata": {},
   "outputs": [
    {
     "data": {
      "text/plain": [
       "1"
      ]
     },
     "execution_count": 10,
     "metadata": {},
     "output_type": "execute_result"
    }
   ],
   "source": [
    "expl_list[0]"
   ]
  },
  {
   "cell_type": "code",
   "execution_count": 11,
   "id": "43a254e1",
   "metadata": {},
   "outputs": [
    {
     "data": {
      "text/plain": [
       "list"
      ]
     },
     "execution_count": 11,
     "metadata": {},
     "output_type": "execute_result"
    }
   ],
   "source": [
    "type(expl_list)"
   ]
  },
  {
   "cell_type": "markdown",
   "id": "d9d02528",
   "metadata": {},
   "source": [
    "<b>Loops"
   ]
  },
  {
   "cell_type": "code",
   "execution_count": 12,
   "id": "85464290",
   "metadata": {},
   "outputs": [
    {
     "name": "stdout",
     "output_type": "stream",
     "text": [
      "1\n",
      "2\n",
      "3\n"
     ]
    }
   ],
   "source": [
    "import time\n",
    "for i in [1,2,3]:\n",
    "    print(i)\n",
    "    time.sleep(1)\n",
    "    "
   ]
  },
  {
   "cell_type": "code",
   "execution_count": 13,
   "id": "6736c6a4",
   "metadata": {},
   "outputs": [
    {
     "name": "stdout",
     "output_type": "stream",
     "text": [
      "1\n",
      "2\n",
      "3\n"
     ]
    }
   ],
   "source": [
    "for i in expl_list:\n",
    "    print(i)\n",
    "    time.sleep(1)"
   ]
  },
  {
   "cell_type": "code",
   "execution_count": 14,
   "id": "a0b4bf64",
   "metadata": {},
   "outputs": [
    {
     "data": {
      "text/plain": [
       "[1, 2, 3, 'a', 'b']"
      ]
     },
     "execution_count": 14,
     "metadata": {},
     "output_type": "execute_result"
    }
   ],
   "source": [
    "new_list = expl_list+['a','b']\n",
    "new_list"
   ]
  },
  {
   "cell_type": "code",
   "execution_count": 15,
   "id": "cdfff995",
   "metadata": {},
   "outputs": [
    {
     "name": "stdout",
     "output_type": "stream",
     "text": [
      "1\n",
      "<class 'int'>\n",
      "2\n",
      "<class 'int'>\n",
      "3\n",
      "<class 'int'>\n",
      "a\n",
      "<class 'str'>\n",
      "b\n",
      "<class 'str'>\n"
     ]
    }
   ],
   "source": [
    "for i in new_list:\n",
    "    print(i)\n",
    "    print(type(i))\n",
    "    time.sleep(1)"
   ]
  },
  {
   "cell_type": "markdown",
   "id": "ec12cbe0",
   "metadata": {},
   "source": [
    "<b>Dictionaries"
   ]
  },
  {
   "cell_type": "code",
   "execution_count": 16,
   "id": "cb310a8a",
   "metadata": {},
   "outputs": [
    {
     "data": {
      "text/plain": [
       "{'item': 'tree', 'colour': 'Green'}"
      ]
     },
     "execution_count": 16,
     "metadata": {},
     "output_type": "execute_result"
    }
   ],
   "source": [
    "expl_dict = {'item':'tree',\n",
    "            'colour':'Green'}\n",
    "expl_dict"
   ]
  },
  {
   "cell_type": "code",
   "execution_count": 17,
   "id": "38c5571a",
   "metadata": {},
   "outputs": [
    {
     "data": {
      "text/plain": [
       "'Green'"
      ]
     },
     "execution_count": 17,
     "metadata": {},
     "output_type": "execute_result"
    }
   ],
   "source": [
    "expl_dict['colour']"
   ]
  },
  {
   "cell_type": "code",
   "execution_count": 18,
   "id": "b8f0710b",
   "metadata": {},
   "outputs": [
    {
     "data": {
      "text/plain": [
       "'tree'"
      ]
     },
     "execution_count": 18,
     "metadata": {},
     "output_type": "execute_result"
    }
   ],
   "source": [
    "expl_dict['item']"
   ]
  },
  {
   "cell_type": "code",
   "execution_count": 19,
   "id": "0a50639c",
   "metadata": {},
   "outputs": [],
   "source": [
    "list_of_dicts = [\n",
    "    {'item':'tree','colour':'Green'},\n",
    "    {'item':'road','colour':'black'}\n",
    "]"
   ]
  },
  {
   "cell_type": "code",
   "execution_count": 20,
   "id": "2841a5c8",
   "metadata": {},
   "outputs": [
    {
     "name": "stdout",
     "output_type": "stream",
     "text": [
      "tree\n",
      "road\n"
     ]
    }
   ],
   "source": [
    "for i in list_of_dicts:\n",
    "    print(i['item'])\n",
    "    time.sleep(1)"
   ]
  },
  {
   "cell_type": "code",
   "execution_count": 21,
   "id": "6434d45f",
   "metadata": {},
   "outputs": [
    {
     "name": "stdout",
     "output_type": "stream",
     "text": [
      "We found something\n"
     ]
    }
   ],
   "source": [
    "for i in list_of_dicts:\n",
    "    if i['item'] == 'tree':\n",
    "        print('We found something')\n",
    "    "
   ]
  },
  {
   "cell_type": "code",
   "execution_count": 23,
   "id": "7325b152",
   "metadata": {},
   "outputs": [
    {
     "name": "stdout",
     "output_type": "stream",
     "text": [
      "1\n",
      "2\n",
      "3\n",
      "4\n"
     ]
    }
   ],
   "source": [
    "i = 0\n",
    "while i != 4:\n",
    "    i += 1\n",
    "    print(i)\n",
    "    time.sleep(.5)\n",
    "    "
   ]
  },
  {
   "cell_type": "markdown",
   "id": "be996d39",
   "metadata": {},
   "source": [
    "<b> Make a dictionary and set is to a variable "
   ]
  },
  {
   "cell_type": "code",
   "execution_count": null,
   "id": "e10c7bf7",
   "metadata": {},
   "outputs": [],
   "source": []
  },
  {
   "cell_type": "markdown",
   "id": "d650cfdd",
   "metadata": {},
   "source": [
    "<b> Make a list of floats and set it to a variable"
   ]
  },
  {
   "cell_type": "code",
   "execution_count": null,
   "id": "547227f7",
   "metadata": {},
   "outputs": [],
   "source": []
  },
  {
   "cell_type": "markdown",
   "id": "4826f2fb",
   "metadata": {},
   "source": [
    "<b> Loop over your list of floats and do something with every value"
   ]
  },
  {
   "cell_type": "code",
   "execution_count": null,
   "id": "e6c9d637",
   "metadata": {},
   "outputs": [],
   "source": []
  }
 ],
 "metadata": {
  "kernelspec": {
   "display_name": "Python 3 (ipykernel)",
   "language": "python",
   "name": "python3"
  },
  "language_info": {
   "codemirror_mode": {
    "name": "ipython",
    "version": 3
   },
   "file_extension": ".py",
   "mimetype": "text/x-python",
   "name": "python",
   "nbconvert_exporter": "python",
   "pygments_lexer": "ipython3",
   "version": "3.8.10"
  }
 },
 "nbformat": 4,
 "nbformat_minor": 5
}
