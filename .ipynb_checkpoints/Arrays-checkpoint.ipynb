{
 "cells": [
  {
   "cell_type": "code",
   "execution_count": 5,
   "id": "f1c47bd9",
   "metadata": {},
   "outputs": [],
   "source": [
    "import matplotlib.pyplot as plt"
   ]
  },
  {
   "cell_type": "code",
   "execution_count": 48,
   "id": "1a71155f",
   "metadata": {},
   "outputs": [
    {
     "data": {
      "text/plain": [
       "[1, 2, 3, 4, 5, 6, 7, 8]"
      ]
     },
     "execution_count": 48,
     "metadata": {},
     "output_type": "execute_result"
    }
   ],
   "source": [
    "list_1d = [1,2,3,4,5,6,7,8]\n",
    "list_1d"
   ]
  },
  {
   "cell_type": "code",
   "execution_count": 49,
   "id": "3eb3a11d",
   "metadata": {},
   "outputs": [
    {
     "data": {
      "text/plain": [
       "8"
      ]
     },
     "execution_count": 49,
     "metadata": {},
     "output_type": "execute_result"
    }
   ],
   "source": [
    "len(list_1d)"
   ]
  },
  {
   "cell_type": "code",
   "execution_count": 50,
   "id": "1b3ed297",
   "metadata": {},
   "outputs": [
    {
     "data": {
      "text/plain": [
       "1"
      ]
     },
     "execution_count": 50,
     "metadata": {},
     "output_type": "execute_result"
    }
   ],
   "source": [
    "list_1d.count(4)"
   ]
  },
  {
   "cell_type": "code",
   "execution_count": 52,
   "id": "817a84ae",
   "metadata": {},
   "outputs": [
    {
     "data": {
      "text/plain": [
       "[1, 2, 3, 5, 6, 7, 8]"
      ]
     },
     "execution_count": 52,
     "metadata": {},
     "output_type": "execute_result"
    }
   ],
   "source": [
    "list_1d.pop(3)\n",
    "list_1d"
   ]
  },
  {
   "cell_type": "code",
   "execution_count": 53,
   "id": "722239ff",
   "metadata": {},
   "outputs": [
    {
     "data": {
      "image/png": "[encoded data removed]",
      "text/plain": [
       "<Figure size 432x288 with 1 Axes>"
      ]
     },
     "metadata": {
      "needs_background": "light"
     },
     "output_type": "display_data"
    }
   ],
   "source": [
    "plt.imshow([list_1d])\n",
    "plt.show()"
   ]
  },
  {
   "cell_type": "code",
   "execution_count": 54,
   "id": "3f712c5f",
   "metadata": {},
   "outputs": [
    {
     "data": {
      "text/plain": [
       "[[1, 2, 3, 4, 5, 6, 7, 8],\n",
       " [8, 7, 6, 5, 4, 3, 2, 1],\n",
       " [1, 2, 3, 4, 5, 6, 7, 8],\n",
       " [8, 7, 6, 5, 4, 3, 2, 1],\n",
       " [1, 2, 3, 4, 5, 6, 7, 8],\n",
       " [8, 7, 6, 5, 4, 3, 2, 1]]"
      ]
     },
     "execution_count": 54,
     "metadata": {},
     "output_type": "execute_result"
    }
   ],
   "source": [
    "list_2d = [[1,2,3,4,5,6,7,8],\n",
    "          [8,7,6,5,4,3,2,1],\n",
    "          [1,2,3,4,5,6,7,8],\n",
    "          [8,7,6,5,4,3,2,1],\n",
    "          [1,2,3,4,5,6,7,8],\n",
    "          [8,7,6,5,4,3,2,1],]\n",
    "list_2d"
   ]
  },
  {
   "cell_type": "code",
   "execution_count": 55,
   "id": "8f305b35",
   "metadata": {},
   "outputs": [
    {
     "data": {
      "image/png": "[encoded data removed]",
      "text/plain": [
       "<Figure size 432x288 with 1 Axes>"
      ]
     },
     "metadata": {
      "needs_background": "light"
     },
     "output_type": "display_data"
    }
   ],
   "source": [
    "plt.imshow(list_2d)\n",
    "plt.show()"
   ]
  },
  {
   "cell_type": "code",
   "execution_count": null,
   "id": "479ee3f4",
   "metadata": {},
   "outputs": [],
   "source": []
  },
  {
   "cell_type": "markdown",
   "id": "9ea57ea5",
   "metadata": {},
   "source": [
    "<b>Right some code to find out the total number of ints within 'list_2d'"
   ]
  },
  {
   "cell_type": "code",
   "execution_count": null,
   "id": "90985150",
   "metadata": {},
   "outputs": [],
   "source": []
  }
 ],
 "metadata": {
  "kernelspec": {
   "display_name": "Python 3",
   "language": "python",
   "name": "python3"
  },
  "language_info": {
   "codemirror_mode": {
    "name": "ipython",
    "version": 3
   },
   "file_extension": ".py",
   "mimetype": "text/x-python",
   "name": "python",
   "nbconvert_exporter": "python",
   "pygments_lexer": "ipython3",
   "version": "3.8.2"
  }
 },
 "nbformat": 4,
 "nbformat_minor": 5
}
