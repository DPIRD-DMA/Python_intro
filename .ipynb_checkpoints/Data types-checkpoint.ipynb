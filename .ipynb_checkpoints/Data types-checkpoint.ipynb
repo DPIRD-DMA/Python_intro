{
 "cells": [
  {
   "cell_type": "markdown",
   "id": "6841f191",
   "metadata": {},
   "source": [
    "<b>Strings"
   ]
  },
  {
   "cell_type": "code",
   "execution_count": 7,
   "id": "8c505100",
   "metadata": {},
   "outputs": [
    {
     "data": {
      "text/plain": [
       "'Pyhton is cool 👍'"
      ]
     },
     "execution_count": 7,
     "metadata": {},
     "output_type": "execute_result"
    }
   ],
   "source": [
    "'Pyhton is cool 👍'"
   ]
  },
  {
   "cell_type": "code",
   "execution_count": 8,
   "id": "0c88ae4a",
   "metadata": {
    "scrolled": true
   },
   "outputs": [],
   "source": [
    "text = 'Pyhton is cool 👍'"
   ]
  },
  {
   "cell_type": "code",
   "execution_count": 9,
   "id": "b07617e5",
   "metadata": {},
   "outputs": [
    {
     "data": {
      "text/plain": [
       "'Pyhton is cool 👍'"
      ]
     },
     "execution_count": 9,
     "metadata": {},
     "output_type": "execute_result"
    }
   ],
   "source": [
    "text"
   ]
  },
  {
   "cell_type": "code",
   "execution_count": 10,
   "id": "bf6f05e2",
   "metadata": {},
   "outputs": [
    {
     "data": {
      "text/plain": [
       "str"
      ]
     },
     "execution_count": 10,
     "metadata": {},
     "output_type": "execute_result"
    }
   ],
   "source": [
    "type(text)"
   ]
  },
  {
   "cell_type": "markdown",
   "id": "2e8e957b",
   "metadata": {},
   "source": [
    "<b>Integers"
   ]
  },
  {
   "cell_type": "code",
   "execution_count": 11,
   "id": "b7ce3eca",
   "metadata": {},
   "outputs": [
    {
     "data": {
      "text/plain": [
       "3"
      ]
     },
     "execution_count": 11,
     "metadata": {},
     "output_type": "execute_result"
    }
   ],
   "source": [
    "1+2"
   ]
  },
  {
   "cell_type": "code",
   "execution_count": 12,
   "id": "ef6094e0",
   "metadata": {},
   "outputs": [
    {
     "data": {
      "text/plain": [
       "int"
      ]
     },
     "execution_count": 12,
     "metadata": {},
     "output_type": "execute_result"
    }
   ],
   "source": [
    "type(1)"
   ]
  },
  {
   "cell_type": "markdown",
   "id": "6207a383",
   "metadata": {},
   "source": [
    "<b>Floats</b>"
   ]
  },
  {
   "cell_type": "code",
   "execution_count": 33,
   "id": "8b4a4140",
   "metadata": {},
   "outputs": [
    {
     "data": {
      "text/plain": [
       "0.3333333333333333"
      ]
     },
     "execution_count": 33,
     "metadata": {},
     "output_type": "execute_result"
    }
   ],
   "source": [
    "1/3"
   ]
  },
  {
   "cell_type": "code",
   "execution_count": 34,
   "id": "79ba53bf",
   "metadata": {},
   "outputs": [
    {
     "data": {
      "text/plain": [
       "float"
      ]
     },
     "execution_count": 34,
     "metadata": {},
     "output_type": "execute_result"
    }
   ],
   "source": [
    "type(1/3)"
   ]
  },
  {
   "cell_type": "markdown",
   "id": "2e79a33a",
   "metadata": {},
   "source": [
    "<b>Lists"
   ]
  },
  {
   "cell_type": "code",
   "execution_count": 13,
   "id": "5fe2e9b3",
   "metadata": {},
   "outputs": [
    {
     "data": {
      "text/plain": [
       "[1, 2, 3]"
      ]
     },
     "execution_count": 13,
     "metadata": {},
     "output_type": "execute_result"
    }
   ],
   "source": [
    "expl_list = [1,2,3]\n",
    "expl_list"
   ]
  },
  {
   "cell_type": "code",
   "execution_count": 14,
   "id": "6527949f",
   "metadata": {},
   "outputs": [
    {
     "data": {
      "text/plain": [
       "1"
      ]
     },
     "execution_count": 14,
     "metadata": {},
     "output_type": "execute_result"
    }
   ],
   "source": [
    "expl_list[0]"
   ]
  },
  {
   "cell_type": "code",
   "execution_count": 17,
   "id": "fc9e2701",
   "metadata": {},
   "outputs": [
    {
     "data": {
      "text/plain": [
       "list"
      ]
     },
     "execution_count": 17,
     "metadata": {},
     "output_type": "execute_result"
    }
   ],
   "source": [
    "type(expl_list)"
   ]
  },
  {
   "cell_type": "markdown",
   "id": "12f4f872",
   "metadata": {},
   "source": [
    "<b>Loops"
   ]
  },
  {
   "cell_type": "code",
   "execution_count": 18,
   "id": "85464290",
   "metadata": {},
   "outputs": [
    {
     "name": "stdout",
     "output_type": "stream",
     "text": [
      "1\n",
      "2\n",
      "3\n"
     ]
    }
   ],
   "source": [
    "import time\n",
    "for i in [1,2,3]:\n",
    "    print(i)\n",
    "    time.sleep(1)\n",
    "    "
   ]
  },
  {
   "cell_type": "code",
   "execution_count": 20,
   "id": "6736c6a4",
   "metadata": {},
   "outputs": [
    {
     "name": "stdout",
     "output_type": "stream",
     "text": [
      "1\n",
      "2\n",
      "3\n"
     ]
    }
   ],
   "source": [
    "for i in expl_list:\n",
    "    print(i)\n",
    "    time.sleep(1)"
   ]
  },
  {
   "cell_type": "code",
   "execution_count": 21,
   "id": "a0b4bf64",
   "metadata": {},
   "outputs": [
    {
     "data": {
      "text/plain": [
       "[1, 2, 3, 'a', 'b']"
      ]
     },
     "execution_count": 21,
     "metadata": {},
     "output_type": "execute_result"
    }
   ],
   "source": [
    "new_list = expl_list+['a','b']\n",
    "new_list"
   ]
  },
  {
   "cell_type": "code",
   "execution_count": 22,
   "id": "cdfff995",
   "metadata": {},
   "outputs": [
    {
     "name": "stdout",
     "output_type": "stream",
     "text": [
      "1\n",
      "<class 'int'>\n",
      "2\n",
      "<class 'int'>\n",
      "3\n",
      "<class 'int'>\n",
      "a\n",
      "<class 'str'>\n",
      "b\n",
      "<class 'str'>\n"
     ]
    }
   ],
   "source": [
    "for i in new_list:\n",
    "    print(i)\n",
    "    print(type(i))\n",
    "    time.sleep(1)"
   ]
  },
  {
   "cell_type": "markdown",
   "id": "d4fcb617",
   "metadata": {},
   "source": [
    "<b>Dictionaries"
   ]
  },
  {
   "cell_type": "code",
   "execution_count": 23,
   "id": "cb310a8a",
   "metadata": {},
   "outputs": [
    {
     "data": {
      "text/plain": [
       "{'item': 'tree', 'colour': 'Green'}"
      ]
     },
     "execution_count": 23,
     "metadata": {},
     "output_type": "execute_result"
    }
   ],
   "source": [
    "expl_dict = {'item':'tree',\n",
    "            'colour':'Green'}\n",
    "expl_dict"
   ]
  },
  {
   "cell_type": "code",
   "execution_count": 24,
   "id": "38c5571a",
   "metadata": {},
   "outputs": [
    {
     "data": {
      "text/plain": [
       "'Green'"
      ]
     },
     "execution_count": 24,
     "metadata": {},
     "output_type": "execute_result"
    }
   ],
   "source": [
    "expl_dict['colour']"
   ]
  },
  {
   "cell_type": "code",
   "execution_count": 25,
   "id": "b8f0710b",
   "metadata": {},
   "outputs": [
    {
     "data": {
      "text/plain": [
       "'tree'"
      ]
     },
     "execution_count": 25,
     "metadata": {},
     "output_type": "execute_result"
    }
   ],
   "source": [
    "expl_dict['item']"
   ]
  },
  {
   "cell_type": "code",
   "execution_count": 27,
   "id": "0a50639c",
   "metadata": {},
   "outputs": [],
   "source": [
    "list_of_dicts = [\n",
    "    {'item':'tree','colour':'Green'},\n",
    "    {'item':'road','colour':'black'}\n",
    "]"
   ]
  },
  {
   "cell_type": "code",
   "execution_count": 28,
   "id": "2841a5c8",
   "metadata": {},
   "outputs": [
    {
     "name": "stdout",
     "output_type": "stream",
     "text": [
      "tree\n",
      "road\n"
     ]
    }
   ],
   "source": [
    "for i in list_of_dicts:\n",
    "    print(i['item'])\n",
    "    time.sleep(1)"
   ]
  },
  {
   "cell_type": "code",
   "execution_count": 35,
   "id": "6434d45f",
   "metadata": {},
   "outputs": [
    {
     "name": "stdout",
     "output_type": "stream",
     "text": [
      "We found something\n"
     ]
    }
   ],
   "source": [
    "for i in list_of_dicts:\n",
    "    if i['item'] == 'tree':\n",
    "        print('We found something')\n",
    "    "
   ]
  },
  {
   "cell_type": "code",
   "execution_count": 36,
   "id": "e0f357ea",
   "metadata": {},
   "outputs": [
    {
     "name": "stdout",
     "output_type": "stream",
     "text": [
      "0\n",
      "1\n",
      "2\n",
      "3\n",
      "4\n",
      "5\n",
      "6\n",
      "7\n",
      "8\n",
      "9\n"
     ]
    }
   ],
   "source": [
    "for i in range(0,10):\n",
    "    print(i)\n",
    "    time.sleep(.2)"
   ]
  },
  {
   "cell_type": "code",
   "execution_count": 37,
   "id": "7325b152",
   "metadata": {},
   "outputs": [
    {
     "name": "stdout",
     "output_type": "stream",
     "text": [
      "1\n",
      "2\n",
      "3\n",
      "4\n"
     ]
    }
   ],
   "source": [
    "i = 0\n",
    "while i != 4:\n",
    "    i += 1\n",
    "    print(i)\n",
    "    time.sleep(.5)\n",
    "    "
   ]
  },
  {
   "cell_type": "code",
   "execution_count": 38,
   "id": "7bcf40c0",
   "metadata": {},
   "outputs": [],
   "source": [
    "def do_math(x):\n",
    "    y = x*x+2\n",
    "    return y"
   ]
  },
  {
   "cell_type": "code",
   "execution_count": 39,
   "id": "8e283fac",
   "metadata": {},
   "outputs": [
    {
     "data": {
      "text/plain": [
       "51"
      ]
     },
     "execution_count": 39,
     "metadata": {},
     "output_type": "execute_result"
    }
   ],
   "source": [
    "do_math(7)"
   ]
  },
  {
   "cell_type": "markdown",
   "id": "b2a2b488",
   "metadata": {},
   "source": [
    "<b>Strings are text<br>\n",
    "ints are numbers with no decimal places<br>\n",
    "floats are numbers with decimal places<br>\n",
    "list are collections of things other objects<br>\n",
    "dictionaries are like lists but with keys<br>"
   ]
  },
  {
   "cell_type": "code",
   "execution_count": null,
   "id": "c91d8d8a",
   "metadata": {},
   "outputs": [],
   "source": []
  }
 ],
 "metadata": {
  "kernelspec": {
   "display_name": "Python 3",
   "language": "python",
   "name": "python3"
  },
  "language_info": {
   "codemirror_mode": {
    "name": "ipython",
    "version": 3
   },
   "file_extension": ".py",
   "mimetype": "text/x-python",
   "name": "python",
   "nbconvert_exporter": "python",
   "pygments_lexer": "ipython3",
   "version": "3.8.2"
  }
 },
 "nbformat": 4,
 "nbformat_minor": 5
}
