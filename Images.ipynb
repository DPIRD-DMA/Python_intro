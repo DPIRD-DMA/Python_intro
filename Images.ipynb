{
 "cells": [
  {
   "cell_type": "code",
   "execution_count": 1,
   "id": "cd517f3f",
   "metadata": {},
   "outputs": [],
   "source": [
    "import requests\n",
    "from PIL import Image"
   ]
  },
  {
   "cell_type": "code",
   "execution_count": 2,
   "id": "40abfb88",
   "metadata": {},
   "outputs": [],
   "source": [
    "image_url = 'https://github.com/DPIRD-DMA/Python_intro/blob/master/Resources/image_1.jpeg?raw=true'"
   ]
  },
  {
   "cell_type": "code",
   "execution_count": 3,
   "id": "5cc3ec04",
   "metadata": {},
   "outputs": [],
   "source": [
    "img_data = requests.get(image_url).content\n",
    "with open('image_1.jpeg', 'wb') as handler:\n",
    "    handler.write(img_data)"
   ]
  },
  {
   "cell_type": "code",
   "execution_count": 16,
   "id": "4e919a8f",
   "metadata": {},
   "outputs": [],
   "source": [
    "image = Image.open(\"image_1.jpeg\")\n",
    "image"
   ]
  },
  {
   "cell_type": "code",
   "execution_count": 17,
   "id": "bbaa49a7",
   "metadata": {},
   "outputs": [],
   "source": [
    "image.rotate(10)"
   ]
  },
  {
   "cell_type": "code",
   "execution_count": 6,
   "id": "863cf0a4",
   "metadata": {},
   "outputs": [
    {
     "data": {
      "text/plain": [
       "(480, 640, 3)"
      ]
     },
     "execution_count": 6,
     "metadata": {},
     "output_type": "execute_result"
    }
   ],
   "source": [
    "import numpy as np\n",
    "np_image = np.array(image)\n",
    "np_image.shape"
   ]
  },
  {
   "cell_type": "code",
   "execution_count": 7,
   "id": "c11118a0",
   "metadata": {},
   "outputs": [
    {
     "data": {
      "text/plain": [
       "array([33, 39, 25], dtype=uint8)"
      ]
     },
     "execution_count": 7,
     "metadata": {},
     "output_type": "execute_result"
    }
   ],
   "source": [
    "np_image[0][0]"
   ]
  },
  {
   "cell_type": "code",
   "execution_count": 8,
   "id": "45c21332",
   "metadata": {},
   "outputs": [
    {
     "data": {
      "text/plain": [
       "array([100, 100, 100], dtype=uint8)"
      ]
     },
     "execution_count": 8,
     "metadata": {},
     "output_type": "execute_result"
    }
   ],
   "source": [
    "np_image_clip = np_image.clip(100,150)\n",
    "np_image_clip[0][0]"
   ]
  },
  {
   "cell_type": "code",
   "execution_count": 18,
   "id": "7f1ea204",
   "metadata": {},
   "outputs": [],
   "source": [
    "Image.fromarray(np_image_clip)"
   ]
  },
  {
   "cell_type": "code",
   "execution_count": 24,
   "id": "c4219368",
   "metadata": {},
   "outputs": [],
   "source": [
    "np_transp = np.transpose(np_image,[2,0,1])\n",
    "np_transp.shape"
   ]
  },
  {
   "cell_type": "code",
   "execution_count": 23,
   "id": "5b535015",
   "metadata": {},
   "outputs": [],
   "source": [
    "np_transp[0]"
   ]
  },
  {
   "cell_type": "code",
   "execution_count": 19,
   "id": "8fac47d7",
   "metadata": {},
   "outputs": [],
   "source": [
    "import matplotlib.pyplot as plt\n",
    "%matplotlib inline\n",
    "\n",
    "plt.imshow(np_transp[0])\n",
    "plt.show()"
   ]
  },
  {
   "cell_type": "code",
   "execution_count": 20,
   "id": "de328f46",
   "metadata": {},
   "outputs": [],
   "source": [
    "plt.imshow(np_transp[1])\n",
    "plt.show()"
   ]
  },
  {
   "cell_type": "code",
   "execution_count": 21,
   "id": "05689c00",
   "metadata": {},
   "outputs": [],
   "source": [
    "plt.imshow(np_transp[2])\n",
    "plt.show()"
   ]
  },
  {
   "cell_type": "code",
   "execution_count": 22,
   "id": "e10658d3",
   "metadata": {},
   "outputs": [],
   "source": [
    "plt.style.use('classic')\n",
    "\n",
    "x1 = np_transp[0].flatten()\n",
    "x2 = np_transp[1].flatten()\n",
    "x3 = np_transp[2].flatten()\n",
    "\n",
    "kwargs = dict(histtype='step', bins=60)\n",
    "\n",
    "plt.hist(x1, **kwargs)\n",
    "plt.hist(x2, **kwargs)\n",
    "plt.hist(x3, **kwargs);"
   ]
  },
  {
   "cell_type": "code",
   "execution_count": null,
   "id": "99ebf993",
   "metadata": {},
   "outputs": [],
   "source": []
  }
 ],
 "metadata": {
  "kernelspec": {
   "display_name": "Python 3",
   "language": "python",
   "name": "python3"
  },
  "language_info": {
   "codemirror_mode": {
    "name": "ipython",
    "version": 3
   },
   "file_extension": ".py",
   "mimetype": "text/x-python",
   "name": "python",
   "nbconvert_exporter": "python",
   "pygments_lexer": "ipython3",
   "version": "3.9.6"
  }
 },
 "nbformat": 4,
 "nbformat_minor": 5
}
